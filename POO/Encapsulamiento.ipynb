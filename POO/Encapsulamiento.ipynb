{
 "cells": [
  {
   "cell_type": "code",
   "execution_count": 1,
   "metadata": {},
   "outputs": [],
   "source": [
    "class encapsulamiento:\n",
    "    __privado_atri = \"soy un atributo que no vas a poder acceder desde afuera de la clase\"\\\n",
    "    \n",
    "    def __privado_met(self):\n",
    "        print(\"soy un Metodo que no vas a poder acceder desde afuera de la clase\")\n",
    "        "
   ]
  },
  {
   "cell_type": "code",
   "execution_count": 2,
   "metadata": {},
   "outputs": [],
   "source": [
    "e = encapsulamiento()"
   ]
  },
  {
   "cell_type": "code",
   "execution_count": 3,
   "metadata": {},
   "outputs": [
    {
     "data": {
      "text/plain": [
       "<__main__.encapsulamiento at 0x19491f49908>"
      ]
     },
     "execution_count": 3,
     "metadata": {},
     "output_type": "execute_result"
    }
   ],
   "source": [
    "e"
   ]
  },
  {
   "cell_type": "code",
   "execution_count": 7,
   "metadata": {},
   "outputs": [],
   "source": [
    "class encapsulamiento:\n",
    "    __privado_atri = \"soy un atributo que no vas a poder acceder desde afuera de la clase\"\\\n",
    "    \n",
    "    def __privado_met(self):\n",
    "        print(\"soy un Metodo que no vas a poder acceder desde afuera de la clase\")\n",
    "    \n",
    "    def publico_atri(self):\n",
    "        return self.__privado_atri\n",
    "    def public_met(self):\n",
    "        return self.__privado_met()\n",
    "        "
   ]
  },
  {
   "cell_type": "code",
   "execution_count": 9,
   "metadata": {},
   "outputs": [],
   "source": [
    "e= encapsulamiento()"
   ]
  },
  {
   "cell_type": "code",
   "execution_count": 10,
   "metadata": {},
   "outputs": [
    {
     "data": {
      "text/plain": [
       "'soy un atributo que no vas a poder acceder desde afuera de la clase'"
      ]
     },
     "execution_count": 10,
     "metadata": {},
     "output_type": "execute_result"
    }
   ],
   "source": [
    "e.publico_atri()"
   ]
  },
  {
   "cell_type": "code",
   "execution_count": 11,
   "metadata": {},
   "outputs": [
    {
     "name": "stdout",
     "output_type": "stream",
     "text": [
      "soy un Metodo que no vas a poder acceder desde afuera de la clase\n"
     ]
    }
   ],
   "source": [
    "e.public_met()"
   ]
  },
  {
   "cell_type": "code",
   "execution_count": null,
   "metadata": {},
   "outputs": [],
   "source": []
  }
 ],
 "metadata": {
  "kernelspec": {
   "display_name": "Python 3",
   "language": "python",
   "name": "python3"
  },
  "language_info": {
   "codemirror_mode": {
    "name": "ipython",
    "version": 3
   },
   "file_extension": ".py",
   "mimetype": "text/x-python",
   "name": "python",
   "nbconvert_exporter": "python",
   "pygments_lexer": "ipython3",
   "version": "3.7.4"
  }
 },
 "nbformat": 4,
 "nbformat_minor": 2
}
