{
 "cells": [
  {
   "cell_type": "code",
   "execution_count": 1,
   "metadata": {},
   "outputs": [],
   "source": [
    "class Auto:\n",
    "    pass"
   ]
  },
  {
   "cell_type": "code",
   "execution_count": 3,
   "metadata": {},
   "outputs": [],
   "source": [
    "consecionaria = Auto()"
   ]
  },
  {
   "cell_type": "code",
   "execution_count": 4,
   "metadata": {},
   "outputs": [],
   "source": [
    "consecionaria.color = \"rojo\" "
   ]
  },
  {
   "cell_type": "code",
   "execution_count": 5,
   "metadata": {},
   "outputs": [],
   "source": [
    "consecionaria.puertas = \"muchas\""
   ]
  },
  {
   "cell_type": "code",
   "execution_count": 6,
   "metadata": {},
   "outputs": [
    {
     "name": "stdout",
     "output_type": "stream",
     "text": [
      "mi auto es de color  rojo\n"
     ]
    }
   ],
   "source": [
    "print(\"mi auto es de color \", consecionaria.color)"
   ]
  },
  {
   "cell_type": "code",
   "execution_count": 7,
   "metadata": {},
   "outputs": [],
   "source": [
    "class auto:\n",
    "    rojo = False"
   ]
  },
  {
   "cell_type": "code",
   "execution_count": 8,
   "metadata": {},
   "outputs": [],
   "source": [
    "c = auto()"
   ]
  },
  {
   "cell_type": "code",
   "execution_count": 9,
   "metadata": {},
   "outputs": [
    {
     "data": {
      "text/plain": [
       "False"
      ]
     },
     "execution_count": 9,
     "metadata": {},
     "output_type": "execute_result"
    }
   ],
   "source": [
    "c.rojo"
   ]
  },
  {
   "cell_type": "code",
   "execution_count": 11,
   "metadata": {},
   "outputs": [
    {
     "name": "stdout",
     "output_type": "stream",
     "text": [
      "se creo un auto\n",
      "aun no estya coloreado\n",
      "aun no estya coloreado\n"
     ]
    }
   ],
   "source": [
    "class auto:\n",
    "    rojo = False\n",
    "    \n",
    "    def __init__(self):\n",
    "        print(\"se creo un auto\")\n",
    "        \n",
    "    def fabricar(self):\n",
    "        rojo = True\n",
    "    def confirmar_fabricacion(self):\n",
    "        if(self.rojo):\n",
    "            print(\"auto coloreado rojo\")\n",
    "        else:\n",
    "            print(\"aun no estya coloreado\")\n",
    "            \n",
    "a = auto()\n",
    "a.confirmar_fabricacion()\n",
    "a.fabricar()\n",
    "a.confirmar_fabricacion()"
   ]
  },
  {
   "cell_type": "code",
   "execution_count": 12,
   "metadata": {},
   "outputs": [],
   "source": [
    " class fabricas:\n",
    "        def __init__ (self, tiempo, nombre, ruedas):\n",
    "            self.tiempo = tiempo\n",
    "            self.nombre = nombre\n",
    "            self.ruedas = ruedas\n",
    "            print(\"se creo el auto\", self.nombre)\n",
    "            \n",
    "        def __del__ (self):\n",
    "            print(\"se elimino el auto\", self.nombre)"
   ]
  },
  {
   "cell_type": "code",
   "execution_count": 13,
   "metadata": {},
   "outputs": [
    {
     "name": "stdout",
     "output_type": "stream",
     "text": [
      "se creo el auto estudiantes\n"
     ]
    }
   ],
   "source": [
    "s = fabricas(10,\"estudiantes\",4)"
   ]
  },
  {
   "cell_type": "code",
   "execution_count": 16,
   "metadata": {},
   "outputs": [
    {
     "ename": "SyntaxError",
     "evalue": "invalid syntax (<ipython-input-16-76359badf473>, line 11)",
     "output_type": "error",
     "traceback": [
      "\u001b[1;36m  File \u001b[1;32m\"<ipython-input-16-76359badf473>\"\u001b[1;36m, line \u001b[1;32m11\u001b[0m\n\u001b[1;33m    return\"{} se fabrico con exito een el tiempo {} y que tiene esta cantidad de ruedas {}\".format(self.nombre, .self.tiempo, self.ruedas)\u001b[0m\n\u001b[1;37m                                                                                                                ^\u001b[0m\n\u001b[1;31mSyntaxError\u001b[0m\u001b[1;31m:\u001b[0m invalid syntax\n"
     ]
    }
   ],
   "source": [
    " class fabricas:\n",
    "        def __init__ (self, tiempo, nombre, ruedas):\n",
    "            self.tiempo = tiempo\n",
    "            self.nombre = nombre\n",
    "            self.ruedas = ruedas\n",
    "            print(\"se creo el auto\", self.nombre)\n",
    "            \n",
    "        def __del__ (self):\n",
    "            print(\"se elimino el auto\", self.nombre)\n",
    "        def __str__(self):\n",
    "            return\"{} se fabrico con exito een el tiempo {} y que tiene esta cantidad de ruedas {}\".format(self.nombre, .self.tiempo, self.ruedas) \n",
    "        \n",
    "        def __len__ (Self):\n",
    "            return self.tiempo"
   ]
  },
  {
   "cell_type": "code",
   "execution_count": null,
   "metadata": {},
   "outputs": [],
   "source": []
  }
 ],
 "metadata": {
  "kernelspec": {
   "display_name": "Python 3",
   "language": "python",
   "name": "python3"
  },
  "language_info": {
   "codemirror_mode": {
    "name": "ipython",
    "version": 3
   },
   "file_extension": ".py",
   "mimetype": "text/x-python",
   "name": "python",
   "nbconvert_exporter": "python",
   "pygments_lexer": "ipython3",
   "version": "3.7.4"
  }
 },
 "nbformat": 4,
 "nbformat_minor": 2
}
