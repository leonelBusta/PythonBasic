{
 "cells": [
  {
   "cell_type": "raw",
   "metadata": {},
   "source": [
    "sdsas \n"
   ]
  },
  {
   "cell_type": "code",
   "execution_count": 3,
   "metadata": {},
   "outputs": [],
   "source": [
    "class primera:\n",
    "    def __init__(self):\n",
    "        print(\"soy la primera clase\")\n",
    "    def Primera(self):\n",
    "        print(\"este es el metodo heredado de primera\")\n",
    "class segunda:\n",
    "    def __inif__(self):\n",
    "        print(\"soy la segundo clase\")\n",
    "    def Segunda(self):\n",
    "        print(\"este es el metodo heredado de segunda\")\n",
    "        \n",
    "class tercera(primera, segunda):\n",
    "    pass"
   ]
  },
  {
   "cell_type": "code",
   "execution_count": 4,
   "metadata": {},
   "outputs": [
    {
     "name": "stdout",
     "output_type": "stream",
     "text": [
      "soy la primera clase\n"
     ]
    }
   ],
   "source": [
    "herencia_multiple = tercera()"
   ]
  },
  {
   "cell_type": "code",
   "execution_count": 5,
   "metadata": {},
   "outputs": [
    {
     "name": "stdout",
     "output_type": "stream",
     "text": [
      "este es el metodo heredado de primera\n"
     ]
    }
   ],
   "source": [
    " herencia_multiple.Primera()"
   ]
  },
  {
   "cell_type": "code",
   "execution_count": null,
   "metadata": {},
   "outputs": [],
   "source": []
  }
 ],
 "metadata": {
  "kernelspec": {
   "display_name": "Python 3",
   "language": "python",
   "name": "python3"
  },
  "language_info": {
   "codemirror_mode": {
    "name": "ipython",
    "version": 3
   },
   "file_extension": ".py",
   "mimetype": "text/x-python",
   "name": "python",
   "nbconvert_exporter": "python",
   "pygments_lexer": "ipython3",
   "version": "3.7.4"
  }
 },
 "nbformat": 4,
 "nbformat_minor": 2
}
