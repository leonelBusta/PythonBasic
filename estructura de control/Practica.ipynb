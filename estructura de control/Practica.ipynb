{
 "cells": [
  {
   "cell_type": "code",
   "execution_count": null,
   "metadata": {},
   "outputs": [
    {
     "name": "stdout",
     "output_type": "stream",
     "text": [
      "Elige tu propio camino\n",
      "Escribe empezar para iniciar el programa: empezar\n",
      " ¿Que camino quieres elegir?\n",
      "    Escribe la opcion con numero\n",
      "    1- Quiero que me saludes\n",
      "    2- Deseo multiplicar ya que no se como hacerlo..\n",
      "    3- Quiero salir de este programa, ya que aprendi a multiplicar con el curso\n",
      "1\n",
      "Te saludo\n",
      " ¿Que camino quieres elegir?\n",
      "    Escribe la opcion con numero\n",
      "    1- Quiero que me saludes\n",
      "    2- Deseo multiplicar ya que no se como hacerlo..\n",
      "    3- Quiero salir de este programa, ya que aprendi a multiplicar con el curso\n",
      "2\n",
      "Introduce el valor a multiplicar primero: 5\n",
      "Introduce el valor a multiplicar segundo: 5\n",
      "El resultado es:  25.0\n",
      " ¿Que camino quieres elegir?\n",
      "    Escribe la opcion con numero\n",
      "    1- Quiero que me saludes\n",
      "    2- Deseo multiplicar ya que no se como hacerlo..\n",
      "    3- Quiero salir de este programa, ya que aprendi a multiplicar con el curso\n",
      "3\n",
      "Excelente desicion que hayas tomado el curso\n",
      " ¿Que camino quieres elegir?\n",
      "    Escribe la opcion con numero\n",
      "    1- Quiero que me saludes\n",
      "    2- Deseo multiplicar ya que no se como hacerlo..\n",
      "    3- Quiero salir de este programa, ya que aprendi a multiplicar con el curso\n"
     ]
    }
   ],
   "source": [
    "print('Elige tu propio camino')\n",
    "inicio= input (\"Escribe empezar para iniciar el programa: \")\n",
    "while (inicio == 'empezar'):\n",
    "    print(\"\"\" ¿Que camino quieres elegir?\n",
    "    Escribe la opcion con numero\n",
    "    1- Quiero que me saludes\n",
    "    2- Deseo multiplicar ya que no se como hacerlo..\n",
    "    3- Quiero salir de este programa, ya que aprendi a multiplicar con el curso\"\"\")\n",
    "    opcion=input()\n",
    "    if opcion == '1':\n",
    "        print(\"Te saludo\")\n",
    "    elif opcion == '2':\n",
    "        numero1 = float(input(\"Introduce el valor a multiplicar primero: \"))\n",
    "        numero2 = float(input(\"Introduce el valor a multiplicar segundo: \"))\n",
    "        print(\"El resultado es: \", numero1*numero2)\n",
    "    elif opcion == '3':\n",
    "        print(\"Excelente desicion que hayas tomado el curso\")\n",
    "    \n",
    "    else:\n",
    "        print(\"No se que elegiste... \")"
   ]
  },
  {
   "cell_type": "code",
   "execution_count": 7,
   "metadata": {},
   "outputs": [
    {
     "name": "stdout",
     "output_type": "stream",
     "text": [
      "Introduce el valor a multiplicar primero: 1\n",
      "Introduce el valor a multiplicar segundo: 5\n",
      "El resultado es:  5.0\n"
     ]
    }
   ],
   "source": [
    "numero1 = float(input(\"Introduce el valor a multiplicar primero: \"))\n",
    "numero2 = float(input(\"Introduce el valor a multiplicar segundo: \"))\n",
    "print(\"El resultado es: \", numero1*numero2)"
   ]
  },
  {
   "cell_type": "code",
   "execution_count": 19,
   "metadata": {},
   "outputs": [
    {
     "name": "stdout",
     "output_type": "stream",
     "text": [
      "wof\n",
      "wofwof\n",
      "wofwofwof\n",
      "wofwofwofwof\n",
      "wofwofwofwofwof\n",
      "wofwofwofwofwofwof\n",
      "wof\n",
      "wofwof\n",
      "wofwofwof\n",
      "wofwofwofwof\n"
     ]
    }
   ],
   "source": [
    "class perro():\n",
    "\n",
    "    def __init__(self, nombre, size, raza):\n",
    "            self.nombre=nombre\n",
    "            self.size=size\n",
    "            self.raza=raza\n",
    "\n",
    "    def ladra(self):\n",
    "            s=\"\"\n",
    "            for l in self.nombre:\n",
    "                s+=\"wof\"\n",
    "                print (s)\n",
    "\n",
    "\n",
    "chucho=perro(\"chucho\",\"grande\",\"husky\")\n",
    "chucho.ladra()\n",
    "\n",
    "#wofwofwofwofwofwof\n",
    "\n",
    "cloe=perro(\"cloe\",\"mini\",\"chihuahua\")\n",
    "cloe.ladra()\n",
    "\n",
    "#wofwofwofwof"
   ]
  },
  {
   "cell_type": "code",
   "execution_count": null,
   "metadata": {},
   "outputs": [],
   "source": []
  }
 ],
 "metadata": {
  "kernelspec": {
   "display_name": "Python 3",
   "language": "python",
   "name": "python3"
  },
  "language_info": {
   "codemirror_mode": {
    "name": "ipython",
    "version": 3
   },
   "file_extension": ".py",
   "mimetype": "text/x-python",
   "name": "python",
   "nbconvert_exporter": "python",
   "pygments_lexer": "ipython3",
   "version": "3.7.4"
  }
 },
 "nbformat": 4,
 "nbformat_minor": 2
}
