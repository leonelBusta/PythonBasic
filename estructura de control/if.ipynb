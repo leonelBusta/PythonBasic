{
 "cells": [
  {
   "cell_type": "code",
   "execution_count": 1,
   "metadata": {},
   "outputs": [
    {
     "name": "stdout",
     "output_type": "stream",
     "text": [
      "imprimo esto por que la evaluacion fue verdadera\n"
     ]
    }
   ],
   "source": [
    "if True:\n",
    "    print('imprimo esto por que la evaluacion fue verdadera')"
   ]
  },
  {
   "cell_type": "code",
   "execution_count": 2,
   "metadata": {},
   "outputs": [],
   "source": [
    "## el espacio que se encuentra debajo del if True es para determinar la gerarquia "
   ]
  },
  {
   "cell_type": "code",
   "execution_count": 3,
   "metadata": {},
   "outputs": [
    {
     "name": "stdout",
     "output_type": "stream",
     "text": [
      "vale 10\n"
     ]
    }
   ],
   "source": [
    "leon = 10\n",
    "if leon == 10:\n",
    "    print ('vale 10')\n",
    "if leon == 20:\n",
    "    print('vale 20')"
   ]
  },
  {
   "cell_type": "code",
   "execution_count": 4,
   "metadata": {},
   "outputs": [],
   "source": [
    "if leon == 11 and leon == 10:\n",
    "    print('entro')"
   ]
  },
  {
   "cell_type": "code",
   "execution_count": 5,
   "metadata": {},
   "outputs": [
    {
     "name": "stdout",
     "output_type": "stream",
     "text": [
      "entro\n"
     ]
    }
   ],
   "source": [
    "if leon == 11 or leon == 10:\n",
    "    print('entro')"
   ]
  },
  {
   "cell_type": "markdown",
   "metadata": {},
   "source": [
    "## if else y elif"
   ]
  },
  {
   "cell_type": "code",
   "execution_count": 6,
   "metadata": {},
   "outputs": [],
   "source": [
    " leo = 13"
   ]
  },
  {
   "cell_type": "code",
   "execution_count": 7,
   "metadata": {},
   "outputs": [
    {
     "name": "stdout",
     "output_type": "stream",
     "text": [
      "el resto no es cero\n"
     ]
    }
   ],
   "source": [
    "if leo % 2 == 0:\n",
    "    print ('el resto es 0')\n",
    "else:\n",
    "    print ('el resto no es cero')"
   ]
  },
  {
   "cell_type": "code",
   "execution_count": 8,
   "metadata": {},
   "outputs": [
    {
     "name": "stdout",
     "output_type": "stream",
     "text": [
      "nos estan saludando\n"
     ]
    }
   ],
   "source": [
    "frase = 'hola'\n",
    "if frase == \"Entrar\":\n",
    "    print('Bienvenidos')\n",
    "elif frase == 'hola':\n",
    "    print('nos estan saludando')\n",
    "else: \n",
    "    print('Esto es algo cuando no da ningun resultado')"
   ]
  },
  {
   "cell_type": "code",
   "execution_count": 14,
   "metadata": {},
   "outputs": [
    {
     "name": "stdout",
     "output_type": "stream",
     "text": [
      "coloca la nota8.999\n",
      "Aprovaste\n"
     ]
    }
   ],
   "source": [
    "final = float(input('coloca la nota'))\n",
    "if final >= 9:\n",
    "    print('Excelent')\n",
    "elif final >= 7:\n",
    "    print('Aprobaste')\n",
    "elif final== 6:\n",
    "    print ('Te falto poco')\n",
    "elif final <= 5:\n",
    "    print('reprobado')\n",
    "else:\n",
    "    print('No se reconoce la nota ')    "
   ]
  },
  {
   "cell_type": "code",
   "execution_count": null,
   "metadata": {},
   "outputs": [],
   "source": []
  }
 ],
 "metadata": {
  "kernelspec": {
   "display_name": "Python 3",
   "language": "python",
   "name": "python3"
  },
  "language_info": {
   "codemirror_mode": {
    "name": "ipython",
    "version": 3
   },
   "file_extension": ".py",
   "mimetype": "text/x-python",
   "name": "python",
   "nbconvert_exporter": "python",
   "pygments_lexer": "ipython3",
   "version": "3.7.4"
  }
 },
 "nbformat": 4,
 "nbformat_minor": 2
}
