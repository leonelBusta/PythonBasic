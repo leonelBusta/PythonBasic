{
 "cells": [
  {
   "cell_type": "code",
   "execution_count": 2,
   "metadata": {},
   "outputs": [
    {
     "name": "stdout",
     "output_type": "stream",
     "text": [
      "estoy contando, van = 1\n",
      "estoy contando, van = 2\n",
      "estoy contando, van = 3\n",
      "estoy contando, van = 4\n"
     ]
    }
   ],
   "source": [
    "contador = 0\n",
    "while contador <= 3:\n",
    "    contador += 1\n",
    "    print ('estoy contando, van =', contador)"
   ]
  },
  {
   "cell_type": "code",
   "execution_count": 6,
   "metadata": {},
   "outputs": [
    {
     "name": "stdout",
     "output_type": "stream",
     "text": [
      "estoy contando, van = 4\n"
     ]
    }
   ],
   "source": [
    "contador = 0\n",
    "while contador <= 10:\n",
    "    contador += 1\n",
    "    if (contador == 4):\n",
    "        print ('estoy contando, van =', contador)\n",
    "        break\n",
    "else:\n",
    "    print('imprimo esto por que ta termino')"
   ]
  },
  {
   "cell_type": "code",
   "execution_count": null,
   "metadata": {},
   "outputs": [],
   "source": []
  }
 ],
 "metadata": {
  "kernelspec": {
   "display_name": "Python 3",
   "language": "python",
   "name": "python3"
  },
  "language_info": {
   "codemirror_mode": {
    "name": "ipython",
    "version": 3
   },
   "file_extension": ".py",
   "mimetype": "text/x-python",
   "name": "python",
   "nbconvert_exporter": "python",
   "pygments_lexer": "ipython3",
   "version": "3.7.4"
  }
 },
 "nbformat": 4,
 "nbformat_minor": 2
}
