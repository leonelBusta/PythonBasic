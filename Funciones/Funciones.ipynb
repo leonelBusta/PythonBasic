{
 "cells": [
  {
   "cell_type": "code",
   "execution_count": 13,
   "metadata": {},
   "outputs": [
    {
     "name": "stdout",
     "output_type": "stream",
     "text": [
      "funcion basica \n"
     ]
    }
   ],
   "source": [
    "def estudiantes():\n",
    "    print(\"funcion basica \")\n",
    "estudiantes()"
   ]
  },
  {
   "cell_type": "code",
   "execution_count": 14,
   "metadata": {},
   "outputs": [],
   "source": [
    "def tabla7():\n",
    "    for x in range(10):\n",
    "        print(\"7 * {} = {}\".format(x,x*7))"
   ]
  },
  {
   "cell_type": "code",
   "execution_count": 3,
   "metadata": {},
   "outputs": [
    {
     "name": "stdout",
     "output_type": "stream",
     "text": [
      "7 * 0 = 0\n",
      "7 * 1 = 7\n",
      "7 * 2 = 14\n",
      "7 * 3 = 21\n",
      "7 * 4 = 28\n",
      "7 * 5 = 35\n",
      "7 * 6 = 42\n",
      "7 * 7 = 49\n",
      "7 * 8 = 56\n",
      "7 * 9 = 63\n"
     ]
    }
   ],
   "source": [
    "tabla7()"
   ]
  },
  {
   "cell_type": "code",
   "execution_count": 4,
   "metadata": {},
   "outputs": [],
   "source": [
    "def suma (i,x):\n",
    "    return i*x"
   ]
  },
  {
   "cell_type": "code",
   "execution_count": 7,
   "metadata": {},
   "outputs": [
    {
     "data": {
      "text/plain": [
       "25"
      ]
     },
     "execution_count": 7,
     "metadata": {},
     "output_type": "execute_result"
    }
   ],
   "source": [
    "suma(5,5)\n"
   ]
  },
  {
   "cell_type": "code",
   "execution_count": 1,
   "metadata": {},
   "outputs": [
    {
     "name": "stdout",
     "output_type": "stream",
     "text": [
      "captura el nombre: julian\n",
      "cingresa la calificacion: 10\n",
      "Competente sobresaliente\n"
     ]
    }
   ],
   "source": [
    "class alumnos:\n",
    "    #funcion la cual funciona para obtener la informacion por teclado\n",
    "    def __init__(self):\n",
    "        self.nombre=input(\"captura el nombre: \")\n",
    "        self.calificacion=int(input(\"cingresa la calificacion: \"))\n",
    "    #funcion la cual usa los datos ingresados para hacer la condicion dependiendo la cantidad ingresada por teclado\n",
    "    def imprime(self):\n",
    "        #condiciones\n",
    "        if self.calificacion >= 9:\n",
    "            print('Competente sobresaliente')\n",
    "        elif self.calificacion == 9:\n",
    "            print('Competente avanzado ')\n",
    "        elif self.calificacion== 8:\n",
    "            print ('Competente intermedio ')\n",
    "        elif self.calificacion == 7:\n",
    "            print('Competente básico ')\n",
    "        elif self.calificacion == 6:\n",
    "            print('No aprobado ')\n",
    "        else:\n",
    "            print('No se reconoce la nota ')\n",
    "a = alumnos()#objeto para invocar alumnos \n",
    "a.imprime()#objeto àra invocar la funcion donde imprime "
   ]
  },
  {
   "cell_type": "code",
   "execution_count": 3,
   "metadata": {},
   "outputs": [
    {
     "name": "stdout",
     "output_type": "stream",
     "text": [
      "Ingrese la base 4\n",
      "Ingrese el lado 1 3\n",
      "Ingrese el lado 2 2\n",
      "4\n",
      "entro\n",
      "La base es el lado mayor con una longitud de 4\n",
      "Es un triangulo Isoceles\n"
     ]
    }
   ],
   "source": [
    "# Desarollar un programa que cargue los datos de un triangulo, implementar una clase con los metodos\n",
    "# para inicializar los atributos, imprimir el valor del lado con un tamaño mayor y el tipo de\n",
    "# triangulo que es:\n",
    "    # Equilatero\n",
    "    # Isoceles\n",
    "    # Escaleno\n",
    "# Considerando lo siguiente\n",
    "    # Equilatero: Tres de sus lados son iguales\n",
    "    # Isoceles: Los dos angulos opuestos tienen la misma medida, mientras que la base es diferente\n",
    "    # Escaleno: Es un triangulo en el cual los tres lados tienen longitudes diferentes\n",
    "    \n",
    "class TipoTriangulo():\n",
    "        \"Calcula si un triangulo es Equilatero, Isoceles o Escaleno\"\n",
    "        def __init__(self):\n",
    "            self.base = int(input(\"Ingrese la base \"))\n",
    "            self.lado1 = int(input(\"Ingrese el lado 1 \"))\n",
    "            self.lado2 = int(input(\"Ingrese el lado 2 \"))\n",
    "        \n",
    "        def RealizarCalculos(self):\n",
    "            \"Imprime que lado tiene mayor longitud, y tipo de triangulo\"\n",
    "            \n",
    "            # calcula el lado mayor:\n",
    "            # Si la base es mayor:\n",
    "            print(self.base)\n",
    "            if (self.base > self.lado1) and (self.base > self.lado2):\n",
    "                print(\"entro\")\n",
    "                print(\"La base es el lado mayor con una longitud de \" + str(self.base))\n",
    "            # Si el lado 1 es mayor\n",
    "            elif(self.lado1 > self.base) & (self.lado1 > self.lado2):\n",
    "                print(\"El lado 1 es el lado mayor con una longitud de \" + str(self.lado1))\n",
    "            # Si el lado 2 es mayor\n",
    "            elif(self.lado2 > self.base) & (self.lado2 > self.lado1):\n",
    "                print(\"El lado 2 es el lado mayor con una longitud de \" + str(self.lado2))\n",
    "            # Si todos los lados son iguales\n",
    "            else:\n",
    "                print(\"Los lados son iguales\")\n",
    "\n",
    "            # Si los tres lados son diferentes, imprime Escaleno\n",
    "            if (self.base != self.lado1 & self.base != self.lado2 & self.lado1 != self.lado2):\n",
    "                print(\"Es un triangulo Escaleno\")\n",
    "            # Todos los lados son iguales, Imprime Equilatero\n",
    "            elif (self.base == self.lado1 & self.lado1 == self.lado2 ):\n",
    "                print(\"Es un triangulo Equilatero\")\n",
    "            # Si no es Equilatero o Escaleno, es Isoceles.\n",
    "            else:\n",
    "                print(\"Es un triangulo Isoceles\")\n",
    "\n",
    "        \n",
    "\n",
    "\n",
    "    \n",
    "triangulito = TipoTriangulo()\n",
    "triangulito.RealizarCalculos()\n",
    "            "
   ]
  },
  {
   "cell_type": "code",
   "execution_count": null,
   "metadata": {},
   "outputs": [],
   "source": []
  }
 ],
 "metadata": {
  "kernelspec": {
   "display_name": "Python 3",
   "language": "python",
   "name": "python3"
  },
  "language_info": {
   "codemirror_mode": {
    "name": "ipython",
    "version": 3
   },
   "file_extension": ".py",
   "mimetype": "text/x-python",
   "name": "python",
   "nbconvert_exporter": "python",
   "pygments_lexer": "ipython3",
   "version": "3.7.4"
  }
 },
 "nbformat": 4,
 "nbformat_minor": 2
}
