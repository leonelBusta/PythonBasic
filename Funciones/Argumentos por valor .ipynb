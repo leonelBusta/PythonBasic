{
 "cells": [
  {
   "cell_type": "code",
   "execution_count": 2,
   "metadata": {},
   "outputs": [],
   "source": [
    "def funciones(a,b):\n",
    "    return a*b"
   ]
  },
  {
   "cell_type": "code",
   "execution_count": 3,
   "metadata": {},
   "outputs": [
    {
     "data": {
      "text/plain": [
       "4"
      ]
     },
     "execution_count": 3,
     "metadata": {},
     "output_type": "execute_result"
    }
   ],
   "source": [
    "funciones(2,2)"
   ]
  },
  {
   "cell_type": "code",
   "execution_count": 1,
   "metadata": {},
   "outputs": [],
   "source": [
    "class Operaciones():\n",
    "      #funcion para obtener los datos mediante teclado \n",
    "        def __init__(self):\n",
    "            self.valorA=int(input(\"captura el primer valor: \"))\n",
    "            self.valorB=int(input(\"captura el segundo valor: \"))\n",
    "            print(\"entro\")\n",
    "        #funcion la cual con los datos ingresado realiza las operaciones\n",
    "        def imprimir(self):\n",
    "            print(\"el valor de la suma es: \", self.valorA+self.valorB )\n",
    "            print(\"el valor de la resta es: \", self.valorA-self.valorB )\n",
    "            print(\"el valor de la multiplicacion es: \", self.valorA*self.valorB )\n",
    "            print(\"el valor de la division es: \", self.valorA/self.valorB )\n",
    "\n"
   ]
  },
  {
   "cell_type": "code",
   "execution_count": 2,
   "metadata": {
    "scrolled": true
   },
   "outputs": [
    {
     "name": "stdout",
     "output_type": "stream",
     "text": [
      "captura el primer valor: 5\n",
      "captura el segundo valor: 5\n",
      "entro\n",
      "el valor de la suma es:  10\n",
      "el valor de la resta es:  0\n",
      "el valor de la multiplicacion es:  25\n",
      "el valor de la division es:  1.0\n"
     ]
    }
   ],
   "source": [
    "#objetos para invocar las funciones\n",
    "opera=Operaciones()\n",
    "opera.imprimir()"
   ]
  },
  {
   "cell_type": "code",
   "execution_count": null,
   "metadata": {},
   "outputs": [],
   "source": [
    "class agenda:\n",
    "    print(\"\"\"AGENDA\"\"\")\n",
    "    print(\"\"\"1-Agregar contactos\"\"\")\n",
    "    print(\"\"\"2-Lista de conctactos\"\"\")\n",
    "    print(\"\"\"3-Buscar contactos\"\"\")\n",
    "    print(\"\"\"4-Editar contactos\"\"\")\n",
    "    print(\"\"\"5-Cerrar Agenda\"\"\")\n",
    "    \n",
    "    def __init__ (self):\n",
    "        "
   ]
  },
  {
   "cell_type": "markdown",
   "metadata": {},
   "source": [
    "### Act 9"
   ]
  },
  {
   "cell_type": "code",
   "execution_count": null,
   "metadata": {},
   "outputs": [],
   "source": []
  }
 ],
 "metadata": {
  "kernelspec": {
   "display_name": "Python 3",
   "language": "python",
   "name": "python3"
  },
  "language_info": {
   "codemirror_mode": {
    "name": "ipython",
    "version": 3
   },
   "file_extension": ".py",
   "mimetype": "text/x-python",
   "name": "python",
   "nbconvert_exporter": "python",
   "pygments_lexer": "ipython3",
   "version": "3.7.4"
  }
 },
 "nbformat": 4,
 "nbformat_minor": 2
}
